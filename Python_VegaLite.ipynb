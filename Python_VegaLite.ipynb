{
 "cells": [
  {
   "cell_type": "code",
   "execution_count": 1,
   "metadata": {},
   "outputs": [],
   "source": [
    "import altair as alt"
   ]
  },
  {
   "cell_type": "code",
   "execution_count": 2,
   "metadata": {},
   "outputs": [
    {
     "data": {
      "application/vnd.vegalite.v2+json": {
       "$schema": "https://vega.github.io/schema/vega-lite/v2.json",
       "config": {
        "line": {
         "point": true
        },
        "scale": {
         "useUnaggregatedDomain": true
        },
        "view": {
         "height": 300,
         "width": 400
        }
       },
       "data": {
        "format": {
         "type": "json"
        },
        "name": "source",
        "url": "https://vega.github.io/vega-datasets/data/cars.json"
       },
       "encoding": {
        "size": {
         "aggregate": "count",
         "field": "*",
         "type": "quantitative"
        },
        "x": {
         "field": "Origin",
         "type": "nominal"
        },
        "y": {
         "field": "Cylinders",
         "type": "nominal"
        }
       },
       "mark": "point"
      },
      "image/png": "[encoded data removed]",
      "text/plain": [
       "<VegaLite 2 object>\n",
       "\n",
       "If you see this message, it means the renderer has not been properly enabled\n",
       "for the frontend that you are using. For more information, see\n",
       "https://altair-viz.github.io/user_guide/troubleshooting.html\n"
      ]
     },
     "execution_count": 2,
     "metadata": {},
     "output_type": "execute_result"
    }
   ],
   "source": [
    "alt.Chart.from_json(\"\"\"\n",
    "{\n",
    "  \"$schema\": \"https://vega.github.io/schema/vega-lite/v2.json\",\n",
    "  \"data\": {\n",
    "    \"name\": \"source\",\n",
    "    \"url\": \"https://vega.github.io/vega-datasets/data/cars.json\"\n",
    "  },\n",
    "  \"mark\": \"point\",\n",
    "  \"encoding\": {\n",
    "    \"x\": {\n",
    "      \"field\": \"Origin\",\n",
    "      \"type\": \"nominal\"\n",
    "    },\n",
    "    \"size\": {\n",
    "      \"aggregate\": \"count\",\n",
    "      \"field\": \"*\",\n",
    "      \"type\": \"quantitative\"\n",
    "    },\n",
    "    \"y\": {\n",
    "      \"field\": \"Cylinders\",\n",
    "      \"type\": \"nominal\"\n",
    "    }\n",
    "  },\n",
    "  \"config\": {\n",
    "    \"line\": {\n",
    "      \"point\": true\n",
    "    },\n",
    "    \"scale\": {\n",
    "      \"useUnaggregatedDomain\": true\n",
    "    }\n",
    "  }\n",
    "}\n",
    "\"\"\")"
   ]
  }
 ],
 "metadata": {
  "kernelspec": {
   "display_name": "Python 3",
   "language": "python",
   "name": "python3"
  },
  "language_info": {
   "codemirror_mode": {
    "name": "ipython",
    "version": 3
   },
   "file_extension": ".py",
   "mimetype": "text/x-python",
   "name": "python",
   "nbconvert_exporter": "python",
   "pygments_lexer": "ipython3",
   "version": "3.7.1"
  }
 },
 "nbformat": 4,
 "nbformat_minor": 2
}
